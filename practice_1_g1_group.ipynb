{
 "cells": [
  {
   "cell_type": "markdown",
   "id": "aedc7e2d",
   "metadata": {},
   "source": [
    "#1.Write a Python function to find the Max of three numbers."
   ]
  },
  {
   "cell_type": "code",
   "execution_count": 10,
   "id": "7228d078",
   "metadata": {},
   "outputs": [
    {
     "name": "stdout",
     "output_type": "stream",
     "text": [
      "6\n"
     ]
    }
   ],
   "source": [
    "def max(x,y,z):\n",
    "    if x>y and x>z:\n",
    "        return x\n",
    "    elif y>x and y>z:\n",
    "        return y\n",
    "    else: \n",
    "        return z\n",
    "print(max(-1,6,4))"
   ]
  },
  {
   "cell_type": "markdown",
   "id": "e68b616c",
   "metadata": {},
   "source": [
    "#2.Write a Python function to sum all the numbers in a list."
   ]
  },
  {
   "cell_type": "code",
   "execution_count": 16,
   "id": "20e2519b",
   "metadata": {},
   "outputs": [
    {
     "name": "stdout",
     "output_type": "stream",
     "text": [
      "28\n"
     ]
    }
   ],
   "source": [
    "l=[1,2,3,4,5,6,7]\n",
    "def sum_num(l):\n",
    "    sum=0\n",
    "    for i in l:\n",
    "        sum=sum+i\n",
    "    print(sum)\n",
    "sum_num(l)"
   ]
  },
  {
   "cell_type": "code",
   "execution_count": 7,
   "id": "2326a73a",
   "metadata": {},
   "outputs": [
    {
     "data": {
      "text/plain": [
       "28"
      ]
     },
     "execution_count": 7,
     "metadata": {},
     "output_type": "execute_result"
    }
   ],
   "source": [
    "l=[1,2,3,4,5,6,7]\n",
    "from functools import reduce\n",
    "fun=lambda x,y:x+y\n",
    "reduce(fun,l)\n",
    "    "
   ]
  },
  {
   "cell_type": "markdown",
   "id": "b26c10fe",
   "metadata": {},
   "source": [
    "#3.Write a Python function to multiply all the numbers in a list."
   ]
  },
  {
   "cell_type": "code",
   "execution_count": 8,
   "id": "5ea69c7c",
   "metadata": {},
   "outputs": [
    {
     "data": {
      "text/plain": [
       "5040"
      ]
     },
     "execution_count": 8,
     "metadata": {},
     "output_type": "execute_result"
    }
   ],
   "source": [
    "l=[1,2,3,4,5,6,7]\n",
    "from functools import reduce\n",
    "fun=lambda x,y:x*y\n",
    "reduce(fun,l)"
   ]
  },
  {
   "cell_type": "markdown",
   "id": "9fdbcab2",
   "metadata": {},
   "source": [
    "#4.Write a Python program to reverse a string.###While loop"
   ]
  },
  {
   "cell_type": "code",
   "execution_count": 11,
   "id": "0d3d865f",
   "metadata": {},
   "outputs": [
    {
     "name": "stdout",
     "output_type": "stream",
     "text": [
      "ajoop\n"
     ]
    }
   ],
   "source": [
    "s='pooja'\n",
    "c=len(s)-1\n",
    "rev_s=''\n",
    "while c>=0:\n",
    "    rev_s=rev_s+(s[c])\n",
    "    c-=1 \n",
    "print(rev_s)"
   ]
  },
  {
   "cell_type": "markdown",
   "id": "15f18928",
   "metadata": {},
   "source": [
    "#5.Write a Python function to calculate the factorial of a number (a non-negative integer).The function accepts the number as an argument."
   ]
  },
  {
   "cell_type": "code",
   "execution_count": 28,
   "id": "c6add8c2",
   "metadata": {},
   "outputs": [
    {
     "name": "stdout",
     "output_type": "stream",
     "text": [
      "enter the no.:5\n",
      "120\n"
     ]
    }
   ],
   "source": [
    "num=int(input('enter the no.:'))\n",
    "def fact(num):\n",
    "    factorial=1\n",
    "    if num<0:\n",
    "        print('It is negative no.')\n",
    "    else:\n",
    "        while num>0:\n",
    "            factorial=factorial*num\n",
    "            num-=1\n",
    "        print(factorial)\n",
    "fact(num)\n",
    "        \n",
    "        "
   ]
  },
  {
   "cell_type": "markdown",
   "id": "27e2b505",
   "metadata": {},
   "source": [
    "#6. Write a Python function to check whether a number falls in a given range."
   ]
  },
  {
   "cell_type": "code",
   "execution_count": 38,
   "id": "14678970",
   "metadata": {},
   "outputs": [
    {
     "name": "stdout",
     "output_type": "stream",
     "text": [
      "number not falls in a given range.\n"
     ]
    }
   ],
   "source": [
    "def falls(num):\n",
    "    if num in range(1,11):\n",
    "        print('number falls in a given range.')\n",
    "    else:print (\"number not falls in a given range.\")\n",
    "falls(0)"
   ]
  },
  {
   "cell_type": "markdown",
   "id": "1803319a",
   "metadata": {},
   "source": [
    "#7.Write a Python function that accepts a string and calculate the number of upper case letters and lower case letters."
   ]
  },
  {
   "cell_type": "code",
   "execution_count": 7,
   "id": "df98257b",
   "metadata": {},
   "outputs": [
    {
     "name": "stdout",
     "output_type": "stream",
     "text": [
      "number of upper case letters of Pooja Tibile 2 and number of upper case letters of Pooja Tibile 9\n"
     ]
    }
   ],
   "source": [
    "def cal(st):\n",
    "    c=0\n",
    "    x=0\n",
    "    for i in st:\n",
    "        if i.isupper():\n",
    "            c+=1\n",
    "        elif i.islower():\n",
    "            x+=1\n",
    "       \n",
    "    print('number of upper case letters of',st,c ,'and number of upper case letters of',st,x)\n",
    "cal('Pooja Tibile')\n"
   ]
  },
  {
   "cell_type": "markdown",
   "id": "0a57e4c0",
   "metadata": {},
   "source": [
    "#8Write a Python function that takes a list and returns a new list with unique elements of the first list."
   ]
  },
  {
   "cell_type": "code",
   "execution_count": 8,
   "id": "6d5d26b1",
   "metadata": {},
   "outputs": [
    {
     "name": "stdout",
     "output_type": "stream",
     "text": [
      "[1, 2, 3, 4, 5, 6, 7, 8]\n"
     ]
    }
   ],
   "source": [
    "l=[1,2,3,4,5,1,6,5,4,7,8]\n",
    "lst=[]\n",
    "for i in l:\n",
    "    if i not in lst:\n",
    "        lst.append(i)\n",
    "print(lst)"
   ]
  },
  {
   "cell_type": "markdown",
   "id": "79a0bb0e",
   "metadata": {},
   "source": [
    "#9.Write a Python function that takes a number as a parameter and check the number is prime or not."
   ]
  },
  {
   "cell_type": "code",
   "execution_count": 2,
   "id": "55412092",
   "metadata": {},
   "outputs": [
    {
     "name": "stdout",
     "output_type": "stream",
     "text": [
      "3 is prime no.\n"
     ]
    }
   ],
   "source": [
    "def prime(num):\n",
    "    c=0\n",
    "    for i in range(1,num+1):  \n",
    "        if num%i==0:\n",
    "            c+=1\n",
    "    if c==2:\n",
    "        print(num,'is prime no.')\n",
    "    else:\n",
    "        print(num,'is not prime no.')\n",
    "prime(3) \n",
    "    \n"
   ]
  },
  {
   "cell_type": "markdown",
   "id": "363c739f",
   "metadata": {},
   "source": [
    "#10.Write a Python program to print the even numbers from a given list."
   ]
  },
  {
   "cell_type": "code",
   "execution_count": 22,
   "id": "7c3a3913",
   "metadata": {},
   "outputs": [
    {
     "name": "stdout",
     "output_type": "stream",
     "text": [
      "[2, 34, 56, 76, 44, 78]\n"
     ]
    }
   ],
   "source": [
    "l=[1,2,34,56,76,33,55,44,67,89,78]\n",
    "print(list(filter(lambda x:x%2==0 , l)))\n",
    "    "
   ]
  },
  {
   "cell_type": "markdown",
   "id": "b612f33e",
   "metadata": {},
   "source": [
    "#11. Write a Python function to check whether a number is perfect or not.\n",
    "According to Wikipedia : In number theory, a perfect number is a positive integer that is equal to the sum of its proper positive divisors, that is, the sum of its positive divisors excluding the number itself (also known as its aliquot sum). Equivalently, a perfect number is a number that is half the sum of all of its positive divisors (including itself).\n",
    "Example : The first perfect number is 6, because 1, 2, and 3 are its proper positive divisors, and 1 + 2 + 3 = 6. Equivalently, the number 6 is equal to half the sum of all its positive divisors: ( 1 + 2 + 3 + 6 ) / 2 = 6. The next perfect number is 28 = 1 + 2 + 4 + 7 + 14. This is followed by the perfect numbers 496 and 8128."
   ]
  },
  {
   "cell_type": "code",
   "execution_count": 10,
   "id": "02b5824a",
   "metadata": {},
   "outputs": [
    {
     "name": "stdout",
     "output_type": "stream",
     "text": [
      "500 is not a perfect no.\n"
     ]
    }
   ],
   "source": [
    "def perfect(num):\n",
    "    sum=0\n",
    "    for i in range(1,num+1):\n",
    "        if num%i==0:\n",
    "            sum=sum+i\n",
    "    if sum%num==0:\n",
    "        print(num,'is a perfect no.')\n",
    "    else :print(num,'is not a perfect no.')\n",
    "perfect(500)"
   ]
  },
  {
   "cell_type": "markdown",
   "id": "b60f4b4a",
   "metadata": {},
   "source": [
    "#12.Write a Python function that checks whether a passed string is palindrome or not.###While Loop\n",
    "Note: A palindrome is a word, phrase, or sequence that reads the same backward as forward, e.g., madam or nurses run"
   ]
  },
  {
   "cell_type": "code",
   "execution_count": 16,
   "id": "21950af6",
   "metadata": {},
   "outputs": [
    {
     "name": "stdout",
     "output_type": "stream",
     "text": [
      "nursesrun is palindrome\n"
     ]
    }
   ],
   "source": [
    "def palindrome(st):\n",
    "    c=len(st)-1\n",
    "    rev_s=''\n",
    "    while c>=0:\n",
    "        rev_s=rev_s+(st[c])\n",
    "        c-=1 \n",
    "    if st==rev_s:\n",
    "        print(st,'is palindrome')\n",
    "    else:print('not palindrome ')\n",
    "palindrome('nursesrun')"
   ]
  },
  {
   "cell_type": "markdown",
   "id": "0ce1e602",
   "metadata": {},
   "source": [
    "#13.Write a Python function to check whether a string is a pangram or not. Go to the editor\n",
    "Note : Pangrams are words or sentences containing every letter of the alphabet at least once.\n",
    "For example : \"The quick brown fox jumps over the lazy dog\""
   ]
  },
  {
   "cell_type": "code",
   "execution_count": 25,
   "id": "6e1a2a55",
   "metadata": {},
   "outputs": [
    {
     "name": "stdout",
     "output_type": "stream",
     "text": [
      "pangram\n"
     ]
    }
   ],
   "source": [
    "def pangram(str):\n",
    "    alphabet='abcdefghijklmnopqrstuvwxyz'\n",
    "    for i in alphabet:\n",
    "        if i not in str.lower():\n",
    "            return 'not pangram'\n",
    "    return 'pangram'\n",
    "print(pangram(\"The quick brown fox jumps over the lazy dog\"))\n"
   ]
  },
  {
   "cell_type": "markdown",
   "id": "5bef15d2",
   "metadata": {},
   "source": [
    "#14. Write a Python program that accepts a hyphen-separated sequence of words as input and prints the words in a hyphen-separated sequence after sorting them alphabetically."
   ]
  },
  {
   "cell_type": "code",
   "execution_count": 27,
   "id": "674b3dfb",
   "metadata": {},
   "outputs": [
    {
     "name": "stdout",
     "output_type": "stream",
     "text": [
      "bat-cat-dog-eagle-ice-mat\n"
     ]
    }
   ],
   "source": [
    "st='cat-bat-mat-dog-ice-eagle'\n",
    "var=st.split('-')\n",
    "print('-'.join(sorted(var)))"
   ]
  },
  {
   "cell_type": "markdown",
   "id": "5f2b624e",
   "metadata": {},
   "source": [
    "#15.Write a Python function to create and print a list where the values are square of numbers between 1 and 30 (both included)."
   ]
  },
  {
   "cell_type": "code",
   "execution_count": 29,
   "id": "e9fb4835",
   "metadata": {},
   "outputs": [
    {
     "name": "stdout",
     "output_type": "stream",
     "text": [
      "[(1, 1), (2, 4), (3, 9), (4, 16), (5, 25), (6, 36), (7, 49), (8, 64), (9, 81), (10, 100), (11, 121), (12, 144), (13, 169), (14, 196), (15, 225), (16, 256), (17, 289), (18, 324), (19, 361), (20, 400), (21, 441), (22, 484), (23, 529), (24, 576), (25, 625), (26, 676), (27, 729), (28, 784), (29, 841), (30, 900)]\n"
     ]
    }
   ],
   "source": [
    "lst=[]\n",
    "for i in range(1,31):\n",
    "    lst.append((i,i*i))\n",
    "print(lst)\n",
    "    "
   ]
  },
  {
   "cell_type": "markdown",
   "id": "1161c6fc",
   "metadata": {},
   "source": [
    "#16.Write a Python program to make a chain of function decorators (bold, italic, underline etc.) in Python"
   ]
  },
  {
   "cell_type": "code",
   "execution_count": 1,
   "id": "b6a1618f",
   "metadata": {},
   "outputs": [
    {
     "name": "stdout",
     "output_type": "stream",
     "text": [
      "<b><i><u>hello world</u></i></b>\n"
     ]
    }
   ],
   "source": [
    "def make_bold(fn):\n",
    "    def wrapped():\n",
    "        return \"<b>\" + fn() + \"</b>\"\n",
    "    return wrapped\n",
    "\n",
    "def make_italic(fn):\n",
    "    def wrapped():\n",
    "        return \"<i>\" + fn() + \"</i>\"\n",
    "    return wrapped\n",
    "\n",
    "def make_underline(fn):\n",
    "    def wrapped():\n",
    "        return \"<u>\" + fn() + \"</u>\"\n",
    "    return wrapped\n",
    "@make_bold\n",
    "@make_italic\n",
    "@make_underline\n",
    "def hello():\n",
    "    return \"hello world\"\n",
    "print(hello()) ## returns \"<b><i><u>hello world</u></i></b>\"\n"
   ]
  },
  {
   "cell_type": "markdown",
   "id": "29312d5e",
   "metadata": {},
   "source": [
    "#17. Write a Python program to execute a string containing Python code."
   ]
  },
  {
   "cell_type": "code",
   "execution_count": 30,
   "id": "ff641664",
   "metadata": {},
   "outputs": [
    {
     "name": "stdout",
     "output_type": "stream",
     "text": [
      "helloworld\n"
     ]
    }
   ],
   "source": [
    "code = '\"hello\" + \"world\"'\n",
    "result = eval(code)\n",
    "print(result) \n",
    " \n",
    " "
   ]
  },
  {
   "cell_type": "code",
   "execution_count": 31,
   "id": "f894cb98",
   "metadata": {},
   "outputs": [
    {
     "name": "stdout",
     "output_type": "stream",
     "text": [
      "b\n"
     ]
    }
   ],
   "source": [
    "code = '[\"a\", \"b\", \"c\"][1]'\n",
    "result = eval(code)\n",
    "print(result) "
   ]
  },
  {
   "cell_type": "markdown",
   "id": "13ad211d",
   "metadata": {},
   "source": [
    "#18.Write a Python program to access a function inside a function."
   ]
  },
  {
   "cell_type": "code",
   "execution_count": 57,
   "id": "07418cd1",
   "metadata": {},
   "outputs": [
    {
     "name": "stdout",
     "output_type": "stream",
     "text": [
      "9\n"
     ]
    }
   ],
   "source": [
    "def test(a):\n",
    "    def add(b):\n",
    "        nonlocal a\n",
    "        a += 1\n",
    "        return a+b\n",
    "    return add\n",
    "func= test(4)\n",
    "print(func(4))\n",
    "\n",
    "        \n"
   ]
  },
  {
   "cell_type": "markdown",
   "id": "c862ec1a",
   "metadata": {},
   "source": [
    "#19.Write a Python program to detect the number of local variables declared in a function."
   ]
  },
  {
   "cell_type": "code",
   "execution_count": 58,
   "id": "21f76ad0",
   "metadata": {},
   "outputs": [
    {
     "name": "stdout",
     "output_type": "stream",
     "text": [
      "3\n"
     ]
    }
   ],
   "source": [
    "def abc():\n",
    "    x = 1\n",
    "    y = 2\n",
    "    str1= \"w3resource\"\n",
    "    print(\"Python Exercises\")\n",
    "\n",
    "print(abc.__code__.co_nlocals)\n"
   ]
  },
  {
   "cell_type": "markdown",
   "id": "7158444e",
   "metadata": {},
   "source": [
    "#20.Write a Python program that invoke a given function after specific milliseconds."
   ]
  },
  {
   "cell_type": "code",
   "execution_count": 62,
   "id": "8ce008e2",
   "metadata": {},
   "outputs": [
    {
     "name": "stdout",
     "output_type": "stream",
     "text": [
      "Square root after specific miliseconds:\n",
      "4.0\n",
      "10.0\n",
      "158.42979517754858\n"
     ]
    }
   ],
   "source": [
    "from time import sleep\n",
    "import math\n",
    "def delay(fn, ms, *args):\n",
    "  sleep(ms / 1000)\n",
    "  return fn(*args)\n",
    "print(\"Square root after specific miliseconds:\") \n",
    "print(delay(lambda x: math.sqrt(x), 500, 16))\n",
    "print(delay(lambda x: math.sqrt(x), 1000, 100))\n",
    "print(delay(lambda x: math.sqrt(x), 2000, 25100))\n"
   ]
  },
  {
   "cell_type": "code",
   "execution_count": 65,
   "id": "55e20bd2",
   "metadata": {},
   "outputs": [
    {
     "name": "stdout",
     "output_type": "stream",
     "text": [
      "WELCOME\n",
      "MY\n",
      "PRINCESS\n"
     ]
    }
   ],
   "source": [
    "from time import sleep\n",
    "import math\n",
    "def delay(fn,ms, args):\n",
    "  sleep(ms / 1000)\n",
    "  return fn(args)\n",
    "print(delay(lambda x:x.upper(),2000,'welcome'))\n",
    "print(delay(lambda x:x.upper(),2000,'my'))\n",
    "print(delay(lambda x:x.upper(),2000,'princess'))"
   ]
  }
 ],
 "metadata": {
  "kernelspec": {
   "display_name": "Python 3 (ipykernel)",
   "language": "python",
   "name": "python3"
  },
  "language_info": {
   "codemirror_mode": {
    "name": "ipython",
    "version": 3
   },
   "file_extension": ".py",
   "mimetype": "text/x-python",
   "name": "python",
   "nbconvert_exporter": "python",
   "pygments_lexer": "ipython3",
   "version": "3.9.13"
  }
 },
 "nbformat": 4,
 "nbformat_minor": 5
}
