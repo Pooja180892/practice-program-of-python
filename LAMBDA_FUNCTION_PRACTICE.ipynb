{
 "cells": [
  {
   "cell_type": "markdown",
   "id": "13d534b8",
   "metadata": {},
   "source": [
    "1. Write a Python program to create a lambda function that adds 15 to a given number passed in as an argument, also create a lambda function that multiplies argument x with argument y and print the result.M"
   ]
  },
  {
   "cell_type": "code",
   "execution_count": 1,
   "id": "eb3e132a",
   "metadata": {},
   "outputs": [
    {
     "name": "stdout",
     "output_type": "stream",
     "text": [
      "30\n",
      "48\n"
     ]
    }
   ],
   "source": [
    "val = lambda x : x + 15\n",
    "print(val(15))\n",
    "val = lambda x, y : x * y\n",
    "print(val(12, 4))\n",
    "\n",
    "    \n"
   ]
  },
  {
   "cell_type": "markdown",
   "id": "bd87207d",
   "metadata": {},
   "source": [
    "Write a Python program to create a function that takes one argument, and that argument will be multiplied with an unknown given number."
   ]
  },
  {
   "cell_type": "code",
   "execution_count": 5,
   "id": "e61f4e6b",
   "metadata": {},
   "outputs": [
    {
     "name": "stdout",
     "output_type": "stream",
     "text": [
      "enter the no.:3\n",
      "9\n",
      "9\n"
     ]
    }
   ],
   "source": [
    "n=int(input('enter the no.:'))\n",
    "def res(n):\n",
    "    val= lambda x:x*n\n",
    "    print(val(n))\n",
    "    print(val(n))\n",
    "res(n)"
   ]
  },
  {
   "cell_type": "code",
   "execution_count": 8,
   "id": "d8064b6a",
   "metadata": {
    "scrolled": true
   },
   "outputs": [
    {
     "name": "stdout",
     "output_type": "stream",
     "text": [
      "enter a number5\n",
      "50.0\n"
     ]
    }
   ],
   "source": [
    "a=lambda x:x*float(input('enter a number'))\n",
    "print(a(10))"
   ]
  },
  {
   "cell_type": "markdown",
   "id": "19debe48",
   "metadata": {},
   "source": [
    "#3.Write a Python program to sort a list of tuples using Lambda."
   ]
  },
  {
   "cell_type": "code",
   "execution_count": 11,
   "id": "4a758fa9",
   "metadata": {},
   "outputs": [
    {
     "name": "stdout",
     "output_type": "stream",
     "text": [
      "[('English', 88), ('Maths', 97), ('Science', 90), ('Social sciences', 82)]\n",
      "[('Social sciences', 82), ('English', 88), ('Science', 90), ('Maths', 97)]\n"
     ]
    }
   ],
   "source": [
    "l=[('English', 88), ('Science', 90), ('Maths', 97), ('Social sciences', 82)]\n",
    "res=lambda x:sorted(x)\n",
    "print(res(l))\n",
    "print(sorted(l,key=lambda x:x[1]))\n"
   ]
  },
  {
   "cell_type": "code",
   "execution_count": 16,
   "id": "0af788a6",
   "metadata": {},
   "outputs": [
    {
     "name": "stdout",
     "output_type": "stream",
     "text": [
      "[(1, 2), (3, 4), (5, 6)]\n"
     ]
    }
   ],
   "source": [
    "Lst = [(1,2),(3,4),(5,6)] \n",
    "print(sorted(Lst,key= lambda x:x[1]))"
   ]
  },
  {
   "cell_type": "markdown",
   "id": "455b6c2b",
   "metadata": {},
   "source": [
    "Write a Python program to sort a list of dictionaries using Lambda."
   ]
  },
  {
   "cell_type": "code",
   "execution_count": 19,
   "id": "1fc851ca",
   "metadata": {},
   "outputs": [
    {
     "name": "stdout",
     "output_type": "stream",
     "text": [
      "[{'make': 'Nokia', 'model': 216, 'color': 'Black'}, {'make': 'Samsung', 'model': 7, 'color': 'Blue'}, {'make': 'Mi Max', 'model': '2', 'color': 'Gold'}]\n"
     ]
    }
   ],
   "source": [
    "dict=[{'make': 'Nokia', 'model': 216, 'color': 'Black'}, {'make': 'Mi Max', 'model': '2', 'color': 'Gold'}, {'make': 'Samsung', 'model': 7, 'color': 'Blue'}]\n",
    "print(sorted(dict,key= lambda x:x['color']))"
   ]
  },
  {
   "cell_type": "markdown",
   "id": "b191e4b6",
   "metadata": {},
   "source": [
    "5.Write a Python program to filter a list of integers using Lambda"
   ]
  },
  {
   "cell_type": "code",
   "execution_count": 31,
   "id": "24053259",
   "metadata": {},
   "outputs": [
    {
     "name": "stdout",
     "output_type": "stream",
     "text": [
      "even nos. [2, 4, 6, 8, 10]\n",
      "odd nos. [1, 3, 5, 7, 9]\n"
     ]
    }
   ],
   "source": [
    "l=[1,2,3,4,5,6,7,8,9,10]\n",
    "res=lambda x:x%2==0\n",
    "print('even nos.',list(filter(res,l)))\n",
    "print('odd nos.',(list(filter(lambda y:y%2!=0,l))))"
   ]
  },
  {
   "cell_type": "markdown",
   "id": "20451b2c",
   "metadata": {},
   "source": [
    "6.Write a Python program to square and cube every number in a given list of integers using Lambda."
   ]
  },
  {
   "cell_type": "code",
   "execution_count": 4,
   "id": "7f9e97e5",
   "metadata": {},
   "outputs": [
    {
     "name": "stdout",
     "output_type": "stream",
     "text": [
      "enter the no.5\n",
      "square no. 25\n",
      "cube no. 125\n"
     ]
    }
   ],
   "source": [
    "num=int(input('enter the no.'))\n",
    "res= lambda x:x**2\n",
    "val=lambda x:x**3\n",
    "print('square no.',res(num))\n",
    "print('cube no.',val(num))\n",
    "\n"
   ]
  },
  {
   "cell_type": "markdown",
   "id": "f0ad4b23",
   "metadata": {},
   "source": [
    "7.Write a Python program to find if a given string starts with a given character using Lambda."
   ]
  },
  {
   "cell_type": "code",
   "execution_count": 6,
   "id": "39e5c581",
   "metadata": {},
   "outputs": [
    {
     "name": "stdout",
     "output_type": "stream",
     "text": [
      "enter the stringsadiya\n",
      "False\n"
     ]
    }
   ],
   "source": [
    "s=input('enter the string')\n",
    "res=lambda x:x.startswith('p')\n",
    "print(res(s))"
   ]
  },
  {
   "cell_type": "markdown",
   "id": "98c19828",
   "metadata": {},
   "source": [
    "8.Write a Python program to extract year, month, date and time using Lambda."
   ]
  },
  {
   "cell_type": "code",
   "execution_count": 1,
   "id": "4fd5d72f",
   "metadata": {},
   "outputs": [
    {
     "name": "stdout",
     "output_type": "stream",
     "text": [
      "2023-01-16 21:39:00.882538\n",
      "2023\n",
      "1\n",
      "16\n",
      "21:39:00.882538\n"
     ]
    }
   ],
   "source": [
    "import datetime\n",
    "now = datetime.datetime.now()\n",
    "print(now)\n",
    "year = lambda x: x.year\n",
    "month = lambda x: x.month\n",
    "day = lambda x: x.day\n",
    "t = lambda x: x.time()\n",
    "print(year(now))\n",
    "print(month(now))\n",
    "print(day(now))\n",
    "print(t(now))\n"
   ]
  },
  {
   "cell_type": "markdown",
   "id": "56d9778f",
   "metadata": {},
   "source": [
    "#9.Write a Python program to check whether a given string is number or not using Lambda."
   ]
  },
  {
   "cell_type": "code",
   "execution_count": 9,
   "id": "7fd31b38",
   "metadata": {},
   "outputs": [
    {
     "name": "stdout",
     "output_type": "stream",
     "text": [
      "enter the string12344\n",
      "is num\n"
     ]
    }
   ],
   "source": [
    "s=input('enter the string')\n",
    "res=lambda x:'is num' if x.isdigit() else 'not num'\n",
    "print(res(s))"
   ]
  },
  {
   "cell_type": "markdown",
   "id": "9f73b62a",
   "metadata": {},
   "source": [
    "10. Write a Python program to create Fibonacci series upto n using Lambda."
   ]
  },
  {
   "cell_type": "code",
   "execution_count": 3,
   "id": "0cf304b5",
   "metadata": {},
   "outputs": [
    {
     "name": "stdout",
     "output_type": "stream",
     "text": [
      "enter the no.7\n",
      "[0, 1, 1, 2, 3, 5]\n"
     ]
    }
   ],
   "source": [
    "n=int(input ('enter the no.'))\n",
    "from functools import reduce\n",
    "fib = lambda n:reduce(lambda x,y: x+[x[-1]+x[-2]],\n",
    "                                 range(n-3), [0, 1])\n",
    "  \n",
    "print(fib(n))\n",
    "\n",
    "\n"
   ]
  },
  {
   "cell_type": "markdown",
   "id": "a644f4de",
   "metadata": {},
   "source": [
    "11.Write a Python program to find intersection of two given arrays using Lambda."
   ]
  },
  {
   "cell_type": "code",
   "execution_count": 4,
   "id": "bae1bb73",
   "metadata": {},
   "outputs": [
    {
     "name": "stdout",
     "output_type": "stream",
     "text": [
      "[2, 3, 4]\n"
     ]
    }
   ],
   "source": [
    "l1=[1,2,3,4]\n",
    "l2=[2,3,4,5]\n",
    "res = lambda x:x in l1\n",
    "print(list(filter(res,l2)))"
   ]
  },
  {
   "cell_type": "code",
   "execution_count": null,
   "id": "46e35557",
   "metadata": {},
   "outputs": [],
   "source": [
    "12. Write a Python program to rearrange positive and negative numbers in a given array using Lambda."
   ]
  },
  {
   "cell_type": "code",
   "execution_count": 25,
   "id": "d1052e05",
   "metadata": {},
   "outputs": [
    {
     "name": "stdout",
     "output_type": "stream",
     "text": [
      "[1, 2, 3, 5, 6, -3, -1]\n"
     ]
    }
   ],
   "source": [
    "l1=[3,-1,5,6,-3,1,2]\n",
    "res=list(filter(lambda x:x>0,l1))\n",
    "res1=list(filter(lambda x:x<0,l1))\n",
    "result=((sorted(res))+(sorted(res1)))\n",
    "print(result)\n",
    "\n"
   ]
  },
  {
   "cell_type": "markdown",
   "id": "c447f57d",
   "metadata": {},
   "source": [
    "13.Write a Python program to count the even, odd numbers in a given array of integers using Lambda."
   ]
  },
  {
   "cell_type": "code",
   "execution_count": 25,
   "id": "44862f48",
   "metadata": {},
   "outputs": [
    {
     "name": "stdout",
     "output_type": "stream",
     "text": [
      "even count 4\n",
      "odd count 5\n"
     ]
    }
   ],
   "source": [
    "l=[1,2,3,4,5,6,7,8,9]\n",
    "print('even count', len(list(filter(lambda x:( x%2==0 ),l))))\n",
    "print('odd count', len(list(filter(lambda x:( x%2!=0 ),l))))\n"
   ]
  },
  {
   "cell_type": "markdown",
   "id": "680a0720",
   "metadata": {},
   "source": [
    "#14.Write a Python program to add two given lists using map and lambda."
   ]
  },
  {
   "cell_type": "code",
   "execution_count": 30,
   "id": "aa9e9a99",
   "metadata": {},
   "outputs": [
    {
     "name": "stdout",
     "output_type": "stream",
     "text": [
      "[6, 8, 10, 12, 14]\n"
     ]
    }
   ],
   "source": [
    "l1=[1,2,3,4,5]\n",
    "l2=[5,6,7,8,9]\n",
    "res= lambda x,y:x+y\n",
    "print(list(map(res,l1,l2)))"
   ]
  },
  {
   "cell_type": "markdown",
   "id": "07eeb2be",
   "metadata": {},
   "source": [
    "15. Write a Python program to find the values of length six in a given list using Lambda."
   ]
  },
  {
   "cell_type": "code",
   "execution_count": 33,
   "id": "3a8d977c",
   "metadata": {},
   "outputs": [
    {
     "name": "stdout",
     "output_type": "stream",
     "text": [
      "['sadiya', 'poonam']\n"
     ]
    }
   ],
   "source": [
    "l=['pooja R','prajwalita','sadiya','poonam','reva']\n",
    "res=lambda x:(len(x)==6)\n",
    "print(list(filter(res,l)))"
   ]
  },
  {
   "cell_type": "markdown",
   "id": "a509e270",
   "metadata": {},
   "source": [
    "16. Write a Python program to find the second lowest grade of any student(s) from the given names and grades of each student using lists and lambda. Input number of students, names and grades of each student."
   ]
  },
  {
   "cell_type": "markdown",
   "id": "6f5f5458",
   "metadata": {},
   "source": [
    "17. Write a Python program to find numbers divisible by nineteen or thirteen from a list of numbers using Lambda."
   ]
  },
  {
   "cell_type": "code",
   "execution_count": 34,
   "id": "39ef9963",
   "metadata": {},
   "outputs": [
    {
     "name": "stdout",
     "output_type": "stream",
     "text": [
      "[19, 38, 13, 26, 65]\n"
     ]
    }
   ],
   "source": [
    "l=[19,38,12,13,26,35,67,89,65]\n",
    "print(list(filter(lambda x:(x%19==0) or (x%13==0),l)))"
   ]
  },
  {
   "cell_type": "markdown",
   "id": "bb53dc8c",
   "metadata": {},
   "source": [
    "18.Write a Python program to find palindromes in a given list of strings using Lambda."
   ]
  },
  {
   "cell_type": "code",
   "execution_count": 41,
   "id": "5245ba56",
   "metadata": {
    "scrolled": true
   },
   "outputs": [
    {
     "name": "stdout",
     "output_type": "stream",
     "text": [
      "['madam', 'rar', 'nan']\n"
     ]
    }
   ],
   "source": [
    "l=['madam','rar','pooja','nan']\n",
    "print(list(filter(lambda x:(x==''.join(reversed(x))),l)))"
   ]
  },
  {
   "cell_type": "markdown",
   "id": "0c0db8ed",
   "metadata": {},
   "source": [
    "19.Write a Python program to find all anagrams of a string in a given list of strings using lambda."
   ]
  },
  {
   "cell_type": "code",
   "execution_count": 51,
   "id": "12bfa6a5",
   "metadata": {},
   "outputs": [
    {
     "name": "stdout",
     "output_type": "stream",
     "text": [
      "['cat', 'act', 'tac']\n"
     ]
    }
   ],
   "source": [
    "l=['cat','dog','act','god','listen','silent','tac']\n",
    "s='cat'\n",
    "res=lambda x:(''.join(sorted(x))==''.join(sorted(s)))\n",
    "print(list(filter(res,l)))\n",
    "\n"
   ]
  },
  {
   "cell_type": "markdown",
   "id": "5d72c9f5",
   "metadata": {},
   "source": [
    "20.Write a Python program to find the numbers of a given string and store them in a list, display the numbers which are bigger than the length of the list in sorted form. Use lambda function to solve the problem."
   ]
  },
  {
   "cell_type": "code",
   "execution_count": 60,
   "id": "22d1aecb",
   "metadata": {
    "scrolled": true
   },
   "outputs": [
    {
     "name": "stdout",
     "output_type": "stream",
     "text": [
      "['5', '6', '7', '4', '3', '9', '8']\n",
      "['9', '8']\n"
     ]
    }
   ],
   "source": [
    "s='pooja5674398'\n",
    "res= lambda x: x.isdigit()\n",
    "num=list(filter(res,s))\n",
    "print(num)\n",
    "sol= lambda y:(int(y)>len(num))\n",
    "print(list(filter(sol,num)))\n"
   ]
  },
  {
   "cell_type": "markdown",
   "id": "835366cb",
   "metadata": {},
   "source": [
    "21.Write a Python program that multiply each number of given list with a given number using lambda function. Print the result."
   ]
  },
  {
   "cell_type": "code",
   "execution_count": 63,
   "id": "c13e465c",
   "metadata": {},
   "outputs": [
    {
     "name": "stdout",
     "output_type": "stream",
     "text": [
      "[100, 200, 300, 400]\n"
     ]
    }
   ],
   "source": [
    "num=100\n",
    "l=[1,2,3,4]\n",
    "res=lambda x : x*num\n",
    "print(list(map(res,l)))\n"
   ]
  },
  {
   "cell_type": "markdown",
   "id": "9f734640",
   "metadata": {},
   "source": [
    "22.Write a Python program that sum the length of the names of a given list of names after removing the names that starts with an lowercase letter. Use lambda function."
   ]
  },
  {
   "cell_type": "code",
   "execution_count": 85,
   "id": "276d7c65",
   "metadata": {},
   "outputs": [
    {
     "name": "stdout",
     "output_type": "stream",
     "text": [
      "21\n"
     ]
    }
   ],
   "source": [
    "l=['Pooja','reva','Sadiya','sharavari','Prajwalita']\n",
    "res=lambda x:(x[0].isupper())\n",
    "sol=list(filter(res,l))\n",
    "print(sum(list(map(lambda x:len(x),sol))))\n"
   ]
  },
  {
   "cell_type": "markdown",
   "id": "7fd9fbd3",
   "metadata": {},
   "source": [
    "23.Write a Python program to calculate the sum of the positive and negative numbers of a given list of numbers using lambda function."
   ]
  },
  {
   "cell_type": "code",
   "execution_count": 4,
   "id": "9c8f6c87",
   "metadata": {
    "scrolled": true
   },
   "outputs": [
    {
     "name": "stdout",
     "output_type": "stream",
     "text": [
      "sum of positive nos. 9\n",
      "sum of negative nos. -6\n"
     ]
    }
   ],
   "source": [
    "l=[2,3,4,-1,-2,-3]\n",
    "print('sum of positive nos.',sum(list(filter(lambda x:x>0,l))))\n",
    "print('sum of negative nos.',sum(list(filter(lambda x:x<0,l))))"
   ]
  },
  {
   "cell_type": "markdown",
   "id": "ee978e60",
   "metadata": {},
   "source": [
    "24.Write a Python program to find numbers within a given range where every number is divisible by every digit it contains."
   ]
  },
  {
   "cell_type": "code",
   "execution_count": 7,
   "id": "58c5d7ae",
   "metadata": {},
   "outputs": [
    {
     "name": "stdout",
     "output_type": "stream",
     "text": [
      "no is not divisible\n"
     ]
    }
   ],
   "source": [
    "num = 35\n",
    "tmp = num #432\n",
    "while tmp > 0:\n",
    "    rem = tmp%10\n",
    "    if num%rem!=0:\n",
    "        result='no is not divisible'\n",
    "        break\n",
    "    else:\n",
    "        tmp = tmp //10\n",
    "        result='no is divisible'\n",
    "print(result)"
   ]
  },
  {
   "cell_type": "code",
   "execution_count": 11,
   "id": "bd74f27b",
   "metadata": {
    "scrolled": true
   },
   "outputs": [
    {
     "name": "stdout",
     "output_type": "stream",
     "text": [
      "[1, 2, 3, 4, 5, 6, 7, 8, 9, 0, 1, 2, 3, 4, 5, 6, 7, 8, 9, 0, 1]\n"
     ]
    }
   ],
   "source": [
    "val = lambda x: x%10\n",
    "res=list(map(val,range(1,22)))\n",
    "result=lambda x: 'no.is divisble' if x"
   ]
  },
  {
   "cell_type": "markdown",
   "id": "319c1ccc",
   "metadata": {},
   "source": [
    "25.Write a Python program to create the next bigger number by rearranging the digits of a given number"
   ]
  },
  {
   "cell_type": "code",
   "execution_count": 91,
   "id": "6da050e2",
   "metadata": {},
   "outputs": [
    {
     "name": "stdout",
     "output_type": "stream",
     "text": [
      "sadia\n",
      "145\n",
      "apple\n",
      "hasina\n",
      "23\n"
     ]
    },
    {
     "ename": "TypeError",
     "evalue": "'<' not supported between instances of 'int' and 'str'",
     "output_type": "error",
     "traceback": [
      "\u001b[1;31m---------------------------------------------------------------------------\u001b[0m",
      "\u001b[1;31mTypeError\u001b[0m                                 Traceback (most recent call last)",
      "\u001b[1;32m~\\AppData\\Local\\Temp\\ipykernel_7524\\3194886056.py\u001b[0m in \u001b[0;36m<module>\u001b[1;34m\u001b[0m\n\u001b[0;32m      6\u001b[0m         \u001b[0mprint\u001b[0m\u001b[1;33m(\u001b[0m\u001b[0mstr\u001b[0m\u001b[1;33m(\u001b[0m\u001b[0mi\u001b[0m\u001b[1;33m)\u001b[0m\u001b[1;33m)\u001b[0m\u001b[1;33m\u001b[0m\u001b[1;33m\u001b[0m\u001b[0m\n\u001b[0;32m      7\u001b[0m \u001b[0mp\u001b[0m\u001b[1;33m=\u001b[0m\u001b[1;33m[\u001b[0m\u001b[1;34m'po'\u001b[0m\u001b[1;33m,\u001b[0m\u001b[1;36m13\u001b[0m\u001b[1;33m]\u001b[0m\u001b[1;33m\u001b[0m\u001b[1;33m\u001b[0m\u001b[0m\n\u001b[1;32m----> 8\u001b[1;33m \u001b[0msorted\u001b[0m\u001b[1;33m(\u001b[0m\u001b[0mp\u001b[0m\u001b[1;33m)\u001b[0m\u001b[1;33m\u001b[0m\u001b[1;33m\u001b[0m\u001b[0m\n\u001b[0m",
      "\u001b[1;31mTypeError\u001b[0m: '<' not supported between instances of 'int' and 'str'"
     ]
    }
   ],
   "source": [
    "s=['sadia','145','apple','hasina','23']\n",
    "for i in s:\n",
    "    if i.isdigit():\n",
    "        print(int(i))\n",
    "    else:\n",
    "        print(str(i))\n"
   ]
  },
  {
   "cell_type": "code",
   "execution_count": 110,
   "id": "04766ba5",
   "metadata": {},
   "outputs": [
    {
     "ename": "SyntaxError",
     "evalue": "invalid syntax (1255394014.py, line 4)",
     "output_type": "error",
     "traceback": [
      "\u001b[1;36m  File \u001b[1;32m\"C:\\Users\\Admin\\AppData\\Local\\Temp\\ipykernel_7524\\1255394014.py\"\u001b[1;36m, line \u001b[1;32m4\u001b[0m\n\u001b[1;33m    print(sorted(list(map(res,s))))\u001b[0m\n\u001b[1;37m    ^\u001b[0m\n\u001b[1;31mSyntaxError\u001b[0m\u001b[1;31m:\u001b[0m invalid syntax\n"
     ]
    }
   ],
   "source": [
    "s=['sadia','145','apple','hasina','23']\n",
    "word=[]\n",
    "res=lambda x:int(x) if x.isdigit() else word.append(str(x)\n",
    "print(sorted(list(map(res,s))))\n",
    "\n",
    "\n"
   ]
  }
 ],
 "metadata": {
  "kernelspec": {
   "display_name": "Python 3 (ipykernel)",
   "language": "python",
   "name": "python3"
  },
  "language_info": {
   "codemirror_mode": {
    "name": "ipython",
    "version": 3
   },
   "file_extension": ".py",
   "mimetype": "text/x-python",
   "name": "python",
   "nbconvert_exporter": "python",
   "pygments_lexer": "ipython3",
   "version": "3.9.13"
  }
 },
 "nbformat": 4,
 "nbformat_minor": 5
}
