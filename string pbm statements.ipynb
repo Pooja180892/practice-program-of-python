{
 "cells": [
  {
   "cell_type": "markdown",
   "id": "bc14e823",
   "metadata": {},
   "source": [
    "Write a Python function to create the HTML string with tags around the word(s)."
   ]
  },
  {
   "cell_type": "code",
   "execution_count": 1,
   "id": "054f9ad0",
   "metadata": {
    "scrolled": true
   },
   "outputs": [
    {
     "name": "stdout",
     "output_type": "stream",
     "text": [
      "<i>Python</i>\n",
      "<b>Python Tutorial</b>\n"
     ]
    }
   ],
   "source": [
    "def add_tags(tag, word):\n",
    "    return \"<%s>%s</%s>\" % (tag, word, tag)\n",
    "print(add_tags('i', 'Python'))\n",
    "print(add_tags('b', 'Python Tutorial'))\n"
   ]
  },
  {
   "cell_type": "markdown",
   "id": "ddc4dca8",
   "metadata": {},
   "source": [
    "2.Write a Python function to insert a string in the middle of a string."
   ]
  },
  {
   "cell_type": "code",
   "execution_count": 25,
   "id": "a118fc4e",
   "metadata": {},
   "outputs": [
    {
     "data": {
      "text/plain": [
       "'geekforgeeks is Good for geeks'"
      ]
     },
     "execution_count": 25,
     "metadata": {},
     "output_type": "execute_result"
    }
   ],
   "source": [
    "s1='geekforgeeks is for geeks'\n",
    "s2='Good'\n",
    "temp=s1.split()\n",
    "ln=len(temp)//2\n",
    "def st(s1,s2):\n",
    "    return ' '.join(temp[:ln]+[s2]+temp[ln:])\n",
    "st(s1,s2)\n",
    "    "
   ]
  },
  {
   "cell_type": "code",
   "execution_count": null,
   "id": "4bc258ec",
   "metadata": {},
   "outputs": [],
   "source": []
  },
  {
   "cell_type": "markdown",
   "id": "5b64379c",
   "metadata": {},
   "source": [
    "3. Write a Python function to get a string made of 4 copies of the last two characters of a specified string (length must be at least 2)."
   ]
  },
  {
   "cell_type": "code",
   "execution_count": 5,
   "id": "afa3f9ad",
   "metadata": {},
   "outputs": [
    {
     "name": "stdout",
     "output_type": "stream",
     "text": [
      "jajajaja\n"
     ]
    }
   ],
   "source": [
    "s='Pooja'\n",
    "print(s[-2:]*4)"
   ]
  },
  {
   "cell_type": "markdown",
   "id": "616f036b",
   "metadata": {},
   "source": [
    "4.Write a Python function to get a string made of its first three characters of a specified string. If the length of the string is less than 3 then return the original string."
   ]
  },
  {
   "cell_type": "code",
   "execution_count": 3,
   "id": "cd8efb20",
   "metadata": {},
   "outputs": [
    {
     "name": "stdout",
     "output_type": "stream",
     "text": [
      "enter the string:pooja\n",
      "poo\n"
     ]
    }
   ],
   "source": [
    "s=input('enter the string:')\n",
    "def st(s):\n",
    "    if len(s)<=3:\n",
    "        print(s)\n",
    "    else:\n",
    "        print(s[:3])\n",
    "st(s)"
   ]
  },
  {
   "cell_type": "markdown",
   "id": "34fa50a1",
   "metadata": {},
   "source": [
    "#5.Write a Python program to get the last part of a string before a specified character."
   ]
  },
  {
   "cell_type": "code",
   "execution_count": 19,
   "id": "025dc756",
   "metadata": {},
   "outputs": [
    {
     "name": "stdout",
     "output_type": "stream",
     "text": [
      "enter the char:j\n",
      "enter the string:pooja tibile\n",
      "poo\n"
     ]
    }
   ],
   "source": [
    "k=input('enter the char:')\n",
    "s=input('enter the string:')\n",
    "print(''.join(s.split(k)[0]))\n"
   ]
  }
 ],
 "metadata": {
  "kernelspec": {
   "display_name": "Python 3 (ipykernel)",
   "language": "python",
   "name": "python3"
  },
  "language_info": {
   "codemirror_mode": {
    "name": "ipython",
    "version": 3
   },
   "file_extension": ".py",
   "mimetype": "text/x-python",
   "name": "python",
   "nbconvert_exporter": "python",
   "pygments_lexer": "ipython3",
   "version": "3.9.13"
  }
 },
 "nbformat": 4,
 "nbformat_minor": 5
}
